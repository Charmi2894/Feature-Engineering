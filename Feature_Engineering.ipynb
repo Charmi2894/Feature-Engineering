{
  "nbformat": 4,
  "nbformat_minor": 0,
  "metadata": {
    "colab": {
      "provenance": []
    },
    "kernelspec": {
      "name": "python3",
      "display_name": "Python 3"
    },
    "language_info": {
      "name": "python"
    }
  },
  "cells": [
    {
      "cell_type": "markdown",
      "source": [
        "# Feature Engineering Assignment"
      ],
      "metadata": {
        "id": "BM0Cr-ral_EA"
      }
    },
    {
      "cell_type": "markdown",
      "source": [
        "1. What is a parameter?\n",
        "\n",
        "A parameter is a variable that defines a model’s configuration and is learned from data during training."
      ],
      "metadata": {
        "id": "vz9h5j67mNcK"
      }
    },
    {
      "cell_type": "markdown",
      "source": [
        "2. What is correlation? What does negative correlation mean?\n",
        "\n",
        "Correlation measures the strength and direction of a linear relationship between two variables. It ranges from -1 to +1.\n",
        "\n",
        "A negative correlation means that when one variable increases, the other decreases.\n",
        "Example: As exercise increases, body fat percentage tends to decrease."
      ],
      "metadata": {
        "id": "4aTV7DbVmSuJ"
      }
    },
    {
      "cell_type": "markdown",
      "source": [
        "3. Define Machine Learning. What are the main components in Machine Learning?\n",
        "\n",
        "Machine Learning (ML) is a branch of AI that enables systems to learn and improve from experience without being explicitly programmed.\n",
        "Main components:\n",
        "\n",
        "- Data\n",
        "- Model\n",
        "- Loss function\n",
        "- Optimizer (Learning algorithm)\n",
        "- Evaluation metrics"
      ],
      "metadata": {
        "id": "nft-XLvSmeh1"
      }
    },
    {
      "cell_type": "markdown",
      "source": [
        "4. How does loss value help in determining whether the model is good or not?\n",
        "\n",
        "The loss value indicates how far the model’s predictions are from actual values.\n",
        "- Low loss → good model performance.\n",
        "- High loss → poor model performance."
      ],
      "metadata": {
        "id": "lj554cOpmsIf"
      }
    },
    {
      "cell_type": "markdown",
      "source": [
        "5. What are continuous and categorical variables?\n",
        "\n",
        "Continuous variables: Numeric values with infinite possible outcomes (e.g., height, weight).\n",
        "\n",
        "Categorical variables: Represent discrete categories or labels (e.g., gender, color)."
      ],
      "metadata": {
        "id": "6LkTJsMTmzIV"
      }
    },
    {
      "cell_type": "markdown",
      "source": [
        "6. How do we handle categorical variables in Machine Learning? What are the common techniques?\n",
        "\n",
        "Common techniques:\n",
        "- Label Encoding\n",
        "- One-Hot Encoding\n",
        "- Ordinal Encoding"
      ],
      "metadata": {
        "id": "9n6NGIHxm5t6"
      }
    },
    {
      "cell_type": "markdown",
      "source": [
        "7. What do you mean by training and testing a dataset?\n",
        "\n",
        "Training set: Used to train the model.\n",
        "\n",
        "Testing set: Used to evaluate the model’s performance on unseen data."
      ],
      "metadata": {
        "id": "VizpmcMhnEWc"
      }
    },
    {
      "cell_type": "markdown",
      "source": [
        "8. What is sklearn.preprocessing?\n",
        "\n",
        "It is a module in Scikit-learn that provides tools for data preprocessing, such as scaling, normalization, encoding, and feature transformation."
      ],
      "metadata": {
        "id": "IL21E7V1nLJr"
      }
    },
    {
      "cell_type": "markdown",
      "source": [
        "9. What is a Test set?\n",
        "\n",
        "A Test set is a subset of the dataset used to assess how well a trained model generalizes to unseen data."
      ],
      "metadata": {
        "id": "08rALsHvnP1H"
      }
    },
    {
      "cell_type": "code",
      "source": [
        "#10. How do we split data for model fitting (training and testing) in Python?\n",
        "\n",
        "#Using Scikit-learn:\n",
        "import pandas as pd\n",
        "from sklearn.model_selection import train_test_split\n",
        "data = {\n",
        "    'Age': [22, 25, 30, 28, 35, 40, 45, 50, 55, 60],\n",
        "    'BMI': [18.5, 22.0, 25.5, 26.0, 28.0, 30.0, 27.5, 29.5, 31.0, 32.5],\n",
        "    'Exercise_Level': [3, 4, 2, 3, 1, 2, 4, 5, 2, 1],\n",
        "    'Blood_Pressure': [110, 115, 120, 118, 130, 140, 135, 145, 138, 150],\n",
        "    'Health_Status': [1, 1, 0, 1, 0, 0, 1, 1, 0, 0]  # Target variable\n",
        "}\n",
        "\n",
        "df = pd.DataFrame(data)\n",
        "X = df[['Age', 'BMI', 'Exercise_Level', 'Blood_Pressure']]  # independent variables\n",
        "y = df['Health_Status']                                     # dependent variable\n",
        "X_train, X_test, y_train, y_test = train_test_split(\n",
        "    X, y, test_size=0.3, random_state=42\n",
        ")\n",
        "\n",
        "print(\"Training features:\\n\", X_train)\n",
        "print(\"\\nTesting features:\\n\", X_test)\n",
        "print(\"\\nTraining labels:\\n\", y_train)\n",
        "print(\"\\nTesting labels:\\n\", y_test)\n",
        "\n",
        "\n"
      ],
      "metadata": {
        "colab": {
          "base_uri": "https://localhost:8080/"
        },
        "id": "XwxXbtBFnmi1",
        "outputId": "6b41e20e-6785-4304-fa3d-af5b47761cbb"
      },
      "execution_count": 8,
      "outputs": [
        {
          "output_type": "stream",
          "name": "stdout",
          "text": [
            "Training features:\n",
            "    Age   BMI  Exercise_Level  Blood_Pressure\n",
            "0   22  18.5               3             110\n",
            "7   50  29.5               5             145\n",
            "2   30  25.5               2             120\n",
            "9   60  32.5               1             150\n",
            "4   35  28.0               1             130\n",
            "3   28  26.0               3             118\n",
            "6   45  27.5               4             135\n",
            "\n",
            "Testing features:\n",
            "    Age   BMI  Exercise_Level  Blood_Pressure\n",
            "8   55  31.0               2             138\n",
            "1   25  22.0               4             115\n",
            "5   40  30.0               2             140\n",
            "\n",
            "Training labels:\n",
            " 0    1\n",
            "7    1\n",
            "2    0\n",
            "9    0\n",
            "4    0\n",
            "3    1\n",
            "6    1\n",
            "Name: Health_Status, dtype: int64\n",
            "\n",
            "Testing labels:\n",
            " 8    0\n",
            "1    1\n",
            "5    0\n",
            "Name: Health_Status, dtype: int64\n"
          ]
        }
      ]
    },
    {
      "cell_type": "markdown",
      "source": [
        "10. How do you approach a Machine Learning problem?\n",
        "\n",
        "Steps:\n",
        "- Define the problem\n",
        "- Collect and clean data\n",
        "- Perform EDA (Exploratory Data Analysis)\n",
        "- Select features\n",
        "- Choose a model\n",
        "- Train and evaluate\n",
        "- Optimize performance\n",
        "- Deploy and monitor"
      ],
      "metadata": {
        "id": "bfxkPUgbqpJ2"
      }
    },
    {
      "cell_type": "markdown",
      "source": [
        "11. Why do we have to perform EDA before fitting a model to the data?\n",
        "\n",
        "EDA (Exploratory Data Analysis) helps to:\n",
        "- Understand data patterns\n",
        "- Detect outliers or missing values\n",
        "- Choose appropriate preprocessing methods\n",
        "- Ensure better model accuracy"
      ],
      "metadata": {
        "id": "rmHyNEmvq2j2"
      }
    },
    {
      "cell_type": "markdown",
      "source": [
        "12. What is correlation?\n",
        "\n",
        "Correlation measures how strongly two variables move together."
      ],
      "metadata": {
        "id": "U03Ra8fJq9lP"
      }
    },
    {
      "cell_type": "markdown",
      "source": [
        "13. What does negative correlation mean?\n",
        "\n",
        "Negative correlation indicates that as one variable increases, the other decreases."
      ],
      "metadata": {
        "id": "cRVE4F03sKID"
      }
    },
    {
      "cell_type": "code",
      "source": [
        "#14. How can you find correlation between variables in Python?\n",
        "import pandas as pd\n",
        "corr_matrix = df.corr()\n",
        "print(corr_matrix)\n"
      ],
      "metadata": {
        "colab": {
          "base_uri": "https://localhost:8080/"
        },
        "id": "VOFVrYkRsOxW",
        "outputId": "e1bb393d-107d-4de2-82b1-0e940d932d9e"
      },
      "execution_count": 9,
      "outputs": [
        {
          "output_type": "stream",
          "name": "stdout",
          "text": [
            "                     Age       BMI  Exercise_Level  Blood_Pressure  \\\n",
            "Age             1.000000  0.888384       -0.176791        0.941796   \n",
            "BMI             0.888384  1.000000       -0.348203        0.923375   \n",
            "Exercise_Level -0.176791 -0.348203        1.000000       -0.168282   \n",
            "Blood_Pressure  0.941796  0.923375       -0.168282        1.000000   \n",
            "Health_Status  -0.400577 -0.581667        0.866921       -0.423968   \n",
            "\n",
            "                Health_Status  \n",
            "Age                 -0.400577  \n",
            "BMI                 -0.581667  \n",
            "Exercise_Level       0.866921  \n",
            "Blood_Pressure      -0.423968  \n",
            "Health_Status        1.000000  \n"
          ]
        }
      ]
    },
    {
      "cell_type": "markdown",
      "source": [
        "15. What is causation? Explain difference between correlation and causation with an example.\n",
        "\n",
        "Causation means one event directly affects another.\n",
        "\n",
        "Correlation only shows they move together but doesn’t prove cause-effect.\n",
        "\n",
        "Example:\n",
        "Ice cream sales and drowning incidents are correlated, but hot weather causes both."
      ],
      "metadata": {
        "id": "-TwIsMTfssPl"
      }
    },
    {
      "cell_type": "markdown",
      "source": [
        "16. What is an Optimizer? What are different types of optimizers? Explain each with an example.\n",
        "\n",
        "An Optimizer adjusts model parameters to minimize loss.\n",
        "\n",
        "Common types:\n",
        "- Gradient Descent: Basic method.\n",
        "- Stochastic Gradient Descent (SGD): Updates weights per batch.\n",
        "- Adam: Combines momentum and adaptive learning rates.\n",
        "- RMSprop: Adjusts learning rate based on recent gradients."
      ],
      "metadata": {
        "id": "hD91rdgpsylf"
      }
    },
    {
      "cell_type": "code",
      "source": [
        "from keras.optimizers import Adam\n",
        "optimizer = Adam(learning_rate=0.001)\n"
      ],
      "metadata": {
        "id": "tF52s5a2tDWv"
      },
      "execution_count": 7,
      "outputs": []
    },
    {
      "cell_type": "markdown",
      "source": [
        "17. What is sklearn.linear_model?\n",
        "\n",
        "A Scikit-learn module containing linear models such as:\n",
        "- Linear Regression\n",
        "- Logistic Regression\n",
        "- Ridge, Lasso, etc."
      ],
      "metadata": {
        "id": "vpVIG3bIvosa"
      }
    },
    {
      "cell_type": "markdown",
      "source": [
        "18. What does model.fit() do? What arguments must be given?\n",
        "\n",
        "model.fit(X_train, y_train)\n",
        "\n",
        "It trains the model on training data by adjusting parameters to minimize loss."
      ],
      "metadata": {
        "id": "k0C-GwqHvxyB"
      }
    },
    {
      "cell_type": "markdown",
      "source": [
        "19. What does model.predict() do? What arguments must be given?\n",
        "\n",
        "model.predict(X_test)\n",
        "\n",
        "It uses the trained model to make predictions on new or unseen data."
      ],
      "metadata": {
        "id": "I_VEE5Rav5E4"
      }
    },
    {
      "cell_type": "markdown",
      "source": [
        "Q20. What are continuous and categorical variables?\n",
        "\n",
        "Continuous Variables:\n",
        "These are numerical variables that can take an infinite number of values within a given range.\n",
        "They are measured on a scale and can include fractions or decimals.\n",
        "Examples: Height, Weight, Temperature, Age, Income.\n",
        "\n",
        "Categorical Variables:\n",
        "These represent categories or groups that describe qualitative characteristics.\n",
        "They take on a limited number of distinct values (labels).\n",
        "Examples: Gender (Male/Female), Blood Type (A, B, AB, O), Color (Red, Blue, Green)."
      ],
      "metadata": {
        "id": "a4IocYvqJGFG"
      }
    },
    {
      "cell_type": "markdown",
      "source": [
        "21. What is feature scaling? How does it help in Machine Learning?\n",
        "\n",
        "Feature scaling standardizes the range of independent variables.\n",
        "It ensures that all features contribute equally and prevents bias toward large values."
      ],
      "metadata": {
        "id": "dfBQOM1GwBMe"
      }
    },
    {
      "cell_type": "code",
      "source": [
        "#22. How do we perform scaling in Python?\n",
        "from sklearn.preprocessing import StandardScaler\n",
        "scaler = StandardScaler()\n",
        "X_scaled = scaler.fit_transform(X)"
      ],
      "metadata": {
        "id": "c1GtopJOyZM_"
      },
      "execution_count": 10,
      "outputs": []
    },
    {
      "cell_type": "markdown",
      "source": [
        "23. What is sklearn.preprocessing?\n",
        "\n",
        "Used for data transformation like scaling, normalization, encoding, etc."
      ],
      "metadata": {
        "id": "3eoiHUE9ycyv"
      }
    },
    {
      "cell_type": "markdown",
      "source": [
        "24. How do we split data for model fitting (training and testing) in Python?\n",
        "\n",
        "In Machine Learning, we split the dataset into training and testing sets to evaluate how well a model performs on unseen data.\n",
        "\n",
        "Training Set: Used to train the model (learn patterns).\n",
        "\n",
        "Testing Set: Used to check how well the model generalizes."
      ],
      "metadata": {
        "id": "u0VsXCtFJySc"
      }
    },
    {
      "cell_type": "code",
      "source": [
        "#25. Explain data encoding.\n",
        "# Data encoding converts categorical data into numerical format for model training.\n",
        "# Common types: Label Encoding & One-Hot Encoding\n",
        "# Example:\n",
        "import pandas as pd\n",
        "from sklearn.preprocessing import OneHotEncoder\n",
        "df = pd.DataFrame({\n",
        "    'Category': ['Fruits', 'Vegetables', 'Fruits', 'Dairy', 'Snacks']\n",
        "})\n",
        "\n",
        "print(\"Original DataFrame:\")\n",
        "print(df)\n",
        "encoder = OneHotEncoder()\n",
        "\n",
        "encoded = encoder.fit_transform(df[['Category']]).toarray()\n",
        "\n",
        "encoded_df = pd.DataFrame(encoded, columns=encoder.get_feature_names_out(['Category']))\n",
        "\n",
        "final_df = pd.concat([df, encoded_df], axis=1)\n",
        "\n",
        "print(\"\\nEncoded DataFrame:\")\n",
        "print(final_df)\n"
      ],
      "metadata": {
        "colab": {
          "base_uri": "https://localhost:8080/"
        },
        "id": "q7Yl-NVwypfa",
        "outputId": "5bf61b4b-d19c-42b4-9113-59cc72f0b394"
      },
      "execution_count": 12,
      "outputs": [
        {
          "output_type": "stream",
          "name": "stdout",
          "text": [
            "Original DataFrame:\n",
            "     Category\n",
            "0      Fruits\n",
            "1  Vegetables\n",
            "2      Fruits\n",
            "3       Dairy\n",
            "4      Snacks\n",
            "\n",
            "Encoded DataFrame:\n",
            "     Category  Category_Dairy  Category_Fruits  Category_Snacks  \\\n",
            "0      Fruits             0.0              1.0              0.0   \n",
            "1  Vegetables             0.0              0.0              0.0   \n",
            "2      Fruits             0.0              1.0              0.0   \n",
            "3       Dairy             1.0              0.0              0.0   \n",
            "4      Snacks             0.0              0.0              1.0   \n",
            "\n",
            "   Category_Vegetables  \n",
            "0                  0.0  \n",
            "1                  1.0  \n",
            "2                  0.0  \n",
            "3                  0.0  \n",
            "4                  0.0  \n"
          ]
        }
      ]
    }
  ]
}